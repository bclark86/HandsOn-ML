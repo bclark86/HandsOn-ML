{
 "cells": [
  {
   "cell_type": "markdown",
   "metadata": {},
   "source": [
    "# The Machine Learning Landscape"
   ]
  },
  {
   "cell_type": "markdown",
   "metadata": {},
   "source": [
    "### 1. How would you define machine learning?\n",
    "\n",
    "Machine Learning is the science and art of training computers to learn from data, without being explicitly programmed. A computer program learns from experience E (training data) with respect to some task T and some performance measure P, if its performance on T, as measured by P, improves with experience E. "
   ]
  },
  {
   "cell_type": "markdown",
   "metadata": {},
   "source": [
    "### 2. Can you name four types of problems where it shines?\n",
    "\n",
    "+ Problems for which exisiting solutions require a lot of hand-tuning or long lists of rules: one Machine Learning algorithm can often simplify code and perform better.\n",
    "+ Complex problems for which there is no good solution at all using a traditional approach: the best Machine Learning techniques can find a solution. \n",
    "+ Fluctuating environments: a Machine Learning system can adapt to new data. \n",
    "+ Getting insights about complex problems and large amounts of data (data mining). "
   ]
  },
  {
   "cell_type": "markdown",
   "metadata": {},
   "source": [
    "### 3. What is a labled training set?\n",
    "\n",
    "A labeled training set is the dataset for supervised learning that is fed to the Machine Learning algorithm that includes the solutions. "
   ]
  },
  {
   "cell_type": "markdown",
   "metadata": {},
   "source": [
    "### 4. What are the two most common supervised tasks?\n",
    "\n",
    "+ Classification: predicting a label or categorical variable (Yes/No, purchase/no purchase, spam/no spam, positiveneutral/negative, etc.)\n",
    "+ Regression: predicting a target numerical variable (price of a house, spend of a customer, attendance for a game, etc.)"
   ]
  },
  {
   "cell_type": "markdown",
   "metadata": {},
   "source": [
    "### 5. Can you name four common unsupervised tasks?\n",
    "\n",
    "+ Clustering (k-Means, Hierarchical Cluster Analysis, Expectation Maximization)\n",
    "+ Visualization and Dimensionality Reduction (PCA, t-SNE)\n",
    "+ Association Rule Learning (Apriori, Eclat)\n",
    "+ Anomaly Detection"
   ]
  },
  {
   "cell_type": "markdown",
   "metadata": {},
   "source": [
    "### 6. What type of Machine Learning algorithm would you use to allow a robot to walk in various unknown terrains?\n",
    "\n",
    "Reinforement Learning\n",
    "\n",
    "+ The learning system, called an agent in this context, can observe the enviornment, select and perform actions, and get rewards in return (or penalties in the form of negative rewards). It must then learn by itself what is the best strategy, called a policy, to get the most reward over time. A policy defines what action the agent should choose when it is in a given situation. "
   ]
  },
  {
   "cell_type": "markdown",
   "metadata": {},
   "source": [
    "### 7. What type of algorithm would you use to segment your customers into multiple groups?\n",
    "\n",
    "Clustering to find similar groups of customers."
   ]
  },
  {
   "cell_type": "markdown",
   "metadata": {},
   "source": [
    "### 8. Would you frame the problem of spam detection as a supervised or problem or an unsupervised problem?\n",
    "\n",
    "Spam detection is a supervised learning problem with emails being labeled as spam or not spam."
   ]
  },
  {
   "cell_type": "markdown",
   "metadata": {},
   "source": [
    "### 9. What is an online learning system?\n",
    "\n",
    "In online learning, you train the system incrementally by feeding it data instances sequentially, either individually or by small groups called mini-batches. Each learning step is fast and cheap, so the system can learn about new data on the fly, as it arrives. \n",
    "\n",
    "Online learning is great for systems that receive data as a continous flow (e.g., stock prices) and need to adapt to change rapidly or autonomously. It is also a good option if you have limited computing resources: once an online learning system has learned about new data instances, it does not need them anymore, so you can discard them (unless you want to be able to roll back to a previous state and \"replay\" the data). This can save a large amount of space. \n",
    "\n",
    "Online learning systems adapt quickly to changing data and this speed can be adjusted via a learning rate. Due to this, these systems need to be monitored closely if the data quality changes, whether suddenly or gradually. "
   ]
  },
  {
   "cell_type": "markdown",
   "metadata": {},
   "source": [
    "### 10. What is out-of-core learning?\n",
    "\n",
    "Systems trained on huge datasets that cannot fit in one machine's main memory."
   ]
  },
  {
   "cell_type": "markdown",
   "metadata": {},
   "source": [
    "### 11. What type of learning algorithm relies on a similarity measure to make predictions?\n",
    "\n",
    "Instance-based learning (e.g., k-nearest neighbors) uses similarity between existing instances to generalize new instances. "
   ]
  },
  {
   "cell_type": "markdown",
   "metadata": {},
   "source": [
    "### 12. What is the difference between a model parameter and a learning algorithm's hyperparameter?\n",
    "\n",
    "A model parameter is a configuration variable that is internal to the model and whose value can be estimated from data. Whether a model has a fixed or variable number of parameters determines whether it may be referred to as “parametric” or “nonparametric“. Examples include coeffients of regression models or mean/std of a distribution. \n",
    "\n",
    "A hyperparameter is of a learning algorithm (not of the mode). As such, it is not affected by the learning algorithm itself; it must be set prior to training and remains constant during training. An example of this is the amount of reguliazation for regression, or the k in nearest nieghbors. "
   ]
  },
  {
   "cell_type": "markdown",
   "metadata": {},
   "source": [
    "### 13. What do model-based learning algorithms search for? What is the model common strategy they use to succeed? How do they make predictions?\n",
    "\n",
    "Model-based learning uses a set of examples (feature(s)/target) to make predictions. Paramter values are defined, a performance measure is specified, and either a utility function (how good the model is) or cost function (that measures how bad it is). Model-based learning focuses on either maximizing the utility function or minimizing the cost function. The model uses its parameters to create predictions for new values. \n"
   ]
  },
  {
   "cell_type": "markdown",
   "metadata": {},
   "source": [
    "### 14. Can you name four of the main challenges in Machine Learning?\n",
    "\n",
    "+ Insufficient quality of training data\n",
    "    + It takes a lot of data for most Machine Learning algorithms to work properly. Even for very simple problems you typically need thousands of examples, and for complex problems such as image or speech recognition you may need millions of examples (unless you reuse parts of an existing model). \n",
    "+ Nonrepresentative training data\n",
    "    + In order to generalize well to new data, the training data needs to be representative of the new cases you want to generalize to. Sampling bias can impact both instance-base and model-based learning. \n",
    "+ Poor-quality data\n",
    "    + If your training data is full of errors, outliers, and noise (e.g., due to poor quality measurements), it will make it harder for the system to detect the underlying patterns, so your system is less like to perform well. \n",
    "+ Irrelevant features\n",
    "    + Garbage in, garbage out. Your Machine Learning system will only be capable of learning if the training data contains enough relevant features and not too many irrelevant ones. A critical part of the success of a Machine Learning project is coming up with a good set of features to train on. Feature engineering involves feature selection, feature extraction (combining existing features), and creating new features. "
   ]
  },
  {
   "cell_type": "markdown",
   "metadata": {},
   "source": [
    "### 15. If your model performs great on the training data but generalizes poorly to new instances, what is happening? Can you name three possible solutions?\n",
    "\n",
    "In this case, the model is likely overfitting the training data. In other words, it has learned too well, including picking up on the noise of the training data, so it overgenalizes to new instances. \n",
    "\n",
    "\n",
    "Overfitting happens when the model is too complex relative to the amount and noisiness of the training data. The possible solutions are:\n",
    "+ To simiplify the model by selecting one with fewer parameters (e.g., a linear model rather than a high-degree polynomial model), by reducing the number of attributes in the training data or by constraining the model\n",
    "+ To gather more training data\n",
    "+ To reduce the noise in the training data (e.g., fix data errors and remove outliers)"
   ]
  },
  {
   "cell_type": "markdown",
   "metadata": {},
   "source": [
    "### 16. What is a test set and why would you want to use it?\n",
    "\n",
    "A test set is a portion of data held out from the training process that is used to estimate how well the Machine Learning model generalizes to new data. It is common to use 20% of the available data as a test set (80% for training). "
   ]
  },
  {
   "cell_type": "markdown",
   "metadata": {},
   "source": [
    "### 17. What is the purpose of a validation set?\n",
    "\n",
    "The purpose of a validation set is to tune the hyperparamters of a model. The training set is used to develop multiple models and models are selected and tuned based on how they perform on the validation set. The winning model is finally tested on the test set. This ensures that a model isn't selected based on its performance on the test set as doing so could lead to the selection of a model that adapted well to the test set but doesn't generalize well. "
   ]
  },
  {
   "cell_type": "markdown",
   "metadata": {},
   "source": [
    "### 18. What can go wrong if you tune hyperparameters using the test set?\n",
    "\n",
    "A model that is tested and tuned on the test set will be adapted to perform well on the test set and may not generalize well to new data. "
   ]
  },
  {
   "cell_type": "markdown",
   "metadata": {},
   "source": [
    "### 19. What is cross-validation and why would you prefer it to a validation set?\n",
    "\n",
    "To avoid \"wasting\" too much training data in validation sets, a common technique is to use cross-validation: the training set is split into complementary subsets, and each model is trained against different combination of these subsets and validated against the remaining parts. Once the model type and hyperparameters have been selected, a fiinal model is trained using these hyperparameters on the full training set and the generalization error is measured on the test set. "
   ]
  }
 ],
 "metadata": {
  "kernelspec": {
   "display_name": "Python 3",
   "language": "python",
   "name": "python3"
  },
  "language_info": {
   "codemirror_mode": {
    "name": "ipython",
    "version": 3
   },
   "file_extension": ".py",
   "mimetype": "text/x-python",
   "name": "python",
   "nbconvert_exporter": "python",
   "pygments_lexer": "ipython3",
   "version": "3.6.5"
  }
 },
 "nbformat": 4,
 "nbformat_minor": 2
}
