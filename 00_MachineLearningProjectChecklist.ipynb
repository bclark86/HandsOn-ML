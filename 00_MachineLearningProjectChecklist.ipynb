{
 "cells": [
  {
   "cell_type": "markdown",
   "metadata": {},
   "source": [
    "# Machine Learning Project Checklist"
   ]
  },
  {
   "cell_type": "markdown",
   "metadata": {},
   "source": [
    "### Main Steps:\n",
    "\n",
    "1. Frame the problem and look at the big picture\n",
    "2. Get the data\n",
    "3. Explore the data to gain insights\n",
    "4. Prepare the data to better expose the underlying data patterns to Machine Learning algorithms\n",
    "5. Explore many different models and short-list the best ones\n",
    "6. Fine-tune your models and combine them into a great solution\n",
    "7. Present your solution\n",
    "8. Launch, monitor, and maintain your system\n",
    "\n",
    "**Adapt as Needed**"
   ]
  },
  {
   "cell_type": "markdown",
   "metadata": {},
   "source": [
    "## Frame the Problem and Look at the Big Picture\n",
    "\n",
    "1. Define the object in business terms.\n",
    "2. How will your solution be used?\n",
    "3. What are the current solutions/workarounds (if any)?\n",
    "4. How should you frame this problem (supervised/unsupervised, online/offline, etc.)?\n",
    "5. How should performance be measured?\n",
    "6. Is the performance measure aligned with the business objective?\n",
    "7. What would be the minimum performance needed to reach the business objective?\n",
    "8. What are comparable problems? Can you reuse experience or tools?\n",
    "9. Is human expertise available?\n",
    "10. How would you solve the problem manually?\n",
    "11. List the assumptions you (or others) have made so far.\n",
    "12. Verify assumptions if possible. "
   ]
  },
  {
   "cell_type": "markdown",
   "metadata": {},
   "source": [
    "## Get the Data\n",
    "\n",
    "Note: automate as much as possible so you can easily get fresh data\n",
    "\n",
    "1. List the data you need and how much you need. \n",
    "2. Find and dcument where you can get the data. \n",
    "3. Check how much space it will take. \n",
    "4. Check legal obligations, and get authorization if necessary. \n",
    "5. Get access authorizations. \n",
    "6. Create a workspace (with enough storage space). \n",
    "7. Get the data. \n",
    "8. Convert the data to a format you can easily manipulate (without changing the data itself).\n",
    "9. Ensure sensitive information is deleted or protected (e.g., anonymized).\n",
    "10. Check the size and type of data (time series, sample, geographical, etc.)\n",
    "11. Sample a test set, put it aside, and never look at it (no data snooping!). "
   ]
  },
  {
   "cell_type": "markdown",
   "metadata": {},
   "source": [
    "## Explore the Data\n",
    "\n",
    "Note: try to get insights from a field expert for these steps.\n",
    "\n",
    "1. Create a copy of the data for exploration (sampling it down to a manageable size if necessary).\n",
    "2. Create a jupyter notebook to keep record of your data exploration.\n",
    "3. Study each attribute and its characteristics:\n",
    "\n",
    "    + Name\n",
    "    + Type (categorical, int/float, bounded/unbounded, text, structured, etc.)\n",
    "    + % of missing values\n",
    "    + Noisiness and type of noise (stochastic, outliers, rounding errors, etc.)\n",
    "    + Possibly useful for the task?\n",
    "    + Type of distribution (Gaussian, uniform, logarithmic, etc.)\n",
    "    \n",
    "    \n",
    "4. For the supervised learning taks, identify the target variable.\n",
    "5. Visualize the data.\n",
    "6. Study the correlations between attributes.\n",
    "7. Study how you would solve the problem manually. \n",
    "8. Identify the promising transformations you may want to apply.\n",
    "9. Identify extra data that would be useful (go back to \"Get the Data\" above).\n",
    "10. Document what you have learned."
   ]
  },
  {
   "cell_type": "markdown",
   "metadata": {},
   "source": [
    "## Prepare the Data\n",
    "\n",
    "Notes:\n",
    "+ Work on copies of the data (keep the original dataset intact).\n",
    "+ Write functions for all the data transformations you apply, for five reasons:\n",
    "    - So you can easily prepare the data the next time you get a fresh dataset\n",
    "    - So you can apply these transformations in future projects\n",
    "    - To clean and prepare the test set\n",
    "    - To clean and prepare new data instances once your solution is live\n",
    "    - To make it easy to treat your preparation choices as hyperparameters\n",
    "   \n",
    "\n",
    "1. Data cleaning:\n",
    "\n",
    "    + Fix or remove outliers (optional).\n",
    "    + Fill in missing values (e.g., with zero, mean, median, etc.) or drop their rows (or columns).\n",
    "    \n",
    "    \n",
    "2. Feature selection (optional): \n",
    "\n",
    "    + Drop the attributions that provide no useful information for the task.\n",
    "    \n",
    "    \n",
    "3. Feature engineering, where appropriate:\n",
    "\n",
    "    + Discretize continuous features.\n",
    "    + Decompose features (e.g., categorical, date/time, etc.)\n",
    "    + Add promising transformations of features (e.g., log(x), sqrt(x), x^2, etc.).\n",
    "    + Aggregate features into promising new features.\n",
    "    \n",
    "    \n",
    "4. Feature scaling: standardize or normalize features."
   ]
  },
  {
   "cell_type": "markdown",
   "metadata": {},
   "source": [
    "## Short-List Promising Models\n",
    "\n",
    "Notes:\n",
    "+ If the data is huge, you may want to sample smaller training sets so you can train many different models in a reasonable time (be aware that this penalizes complex models such as large neural nets or Random Forests).\n",
    "+ Once again, try to automate these steps as much as possible.\n",
    "\n",
    "\n",
    "1. Train many quick and dirty models from different categories (e.g., linear, naive Bayes, SVM, Random Forests, neural net, etc.) using standard parameters.\n",
    "2. Measure and compare their performance.\n",
    "\n",
    "    + For each model, use N-fold cross-validation and compute the mean and standard deviation of the performance measure on the N folds.\n",
    "    \n",
    "    \n",
    "3. Analyze the most significant variables for each algorithm.\n",
    "4. Analyze the types of errors the models make. \n",
    "\n",
    "    + What data would a human have used to avoid these errors?\n",
    "    \n",
    "    \n",
    "5. Have a quick round of feature selection and engineering. \n",
    "6. Have one or two more quick iterations of the five previous steps. \n",
    "7. Short-list the top three to five most promising models, preferring models that make different types of errors.\n",
    "    "
   ]
  },
  {
   "cell_type": "markdown",
   "metadata": {},
   "source": [
    "## Fine-Tune the System\n",
    "\n",
    "Notes:\n",
    "+ You will want to use as much data as possible for this step, especially as you move toward the end of fine-tuning.\n",
    "+ As always, automate what you can. \n",
    "\n",
    "\n",
    "\n",
    "1. Fine-tune the hyperparameters using cross-validation:\n",
    "\n",
    "    + Treat your data transformation choices as hyperparameters, especially when you are not sure about them (e.g., should I replace missing values with zeros or with the median value? Or just drop the rows?).\n",
    "    + Unless there are very few hyperparameter values to explore, prefer random search over grid search. If training is very long, you may prefer a Bayesian optimization approach (e.g., using Gaussian process priors, as described by Jasper Snoek, Hugo Larochelle, and Ryan Adams (http://goo.gl/PEFfGr)).\n",
    "   \n",
    "   \n",
    "2. Try Ensemble methods. Combining your best models will ofteen perform better than running them individually. \n",
    "3. Once you are confident about your final model, measure its performance on the test set to estimate the generalization erorr. \n",
    "\n",
    "__Don't tweak your model after measuring the generalization error: you would just start overfitting the test set.__"
   ]
  },
  {
   "cell_type": "markdown",
   "metadata": {},
   "source": [
    "## Present Your Solution\n",
    "\n",
    "1. Document what you have done.\n",
    "2. Create a nice presentation.\n",
    "\n",
    "    + Make sure you highlight the big picture first.\n",
    "    \n",
    "    \n",
    "3. Explain why your solution achieves the business objective. \n",
    "4. Don't forget to present interesting points you noticed along the way. \n",
    "\n",
    "    + Describe what worked and what did not. \n",
    "    + List your assumptions and your system's limitations.\n",
    "    \n",
    "    \n",
    "5. Ensure your key findings are communicated through beautiful visualizations or easy-to-remember statements (e.g., \"the median income is the number-one predictor of housing prices\")."
   ]
  },
  {
   "cell_type": "markdown",
   "metadata": {},
   "source": [
    "## Launch!\n",
    "\n",
    "1. Get your solution ready for production (plug into production data inputs, write unit tests, etc.).\n",
    "2. Write monitoring code to check your system's live performance at regular intervals and trigger alerts when it drops.\n",
    "\n",
    "    + Beware of slow degradation too: models tend to \"rot\" as data evolves.\n",
    "    + Measuring performance may require a human pipeline (e.g., via a crowdsourcing service).\n",
    "    + Also monitor your inputs' quality (e.g., a malfunctioning sensor sending random values, or another team's output becoming stale). This is particularly important for online learning systems. \n",
    "    \n",
    "\n",
    "3. Retrain your models on a regular basis on fresh data (automate as much as possible)."
   ]
  },
  {
   "cell_type": "code",
   "execution_count": null,
   "metadata": {},
   "outputs": [],
   "source": []
  }
 ],
 "metadata": {
  "kernelspec": {
   "display_name": "Python 3",
   "language": "python",
   "name": "python3"
  },
  "language_info": {
   "codemirror_mode": {
    "name": "ipython",
    "version": 3
   },
   "file_extension": ".py",
   "mimetype": "text/x-python",
   "name": "python",
   "nbconvert_exporter": "python",
   "pygments_lexer": "ipython3",
   "version": "3.6.5"
  }
 },
 "nbformat": 4,
 "nbformat_minor": 2
}
